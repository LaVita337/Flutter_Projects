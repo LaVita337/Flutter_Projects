{
 "cells": [
  {
   "cell_type": "code",
   "execution_count": 2,
   "id": "90d6d9d9",
   "metadata": {},
   "outputs": [],
   "source": [
    "import tensorflow as tf\n",
    "import tensorflow_hub as hub\n",
    "import os\n",
    "from PIL import Image\n",
    "import numpy as np"
   ]
  },
  {
   "cell_type": "code",
   "execution_count": 3,
   "id": "7dfbf091",
   "metadata": {},
   "outputs": [],
   "source": [
    "# 원본 이미지 폴더 경로\n",
    "input_folder = \"D:\\\\aiffel\\\\QUEST\\\\aiffelton\\\\multimodel_sample\\\\sample_data\\\\sample_data_image2\"\n",
    "\n",
    "# 결과 이미지 저장 폴더 경로\n",
    "output_folder = \"D:\\\\aiffel\\\\QUEST\\\\aiffelton\\\\multimodel_sample\\\\sample_data\\\\sample_data_result\"\n",
    "\n",
    "# 스타일 이미지 경로\n",
    "style_image_path = 'D:\\\\aiffel\\\\QUEST\\\\aiffelton\\\\multimodel_sample\\\\sample_data\\\\sample_data_image\\\\110101020220620163918.jpg'\n",
    "\n",
    "# 결과 폴더가 없으면 생성\n",
    "if not os.path.exists(output_folder):\n",
    "    os.makedirs(output_folder)"
   ]
  },
  {
   "cell_type": "code",
   "execution_count": 6,
   "id": "cd90d76b",
   "metadata": {},
   "outputs": [],
   "source": [
    "model = hub.load('https://tfhub.dev/google/magenta/arbitrary-image-stylization-v1-256/2')"
   ]
  },
  {
   "cell_type": "code",
   "execution_count": 4,
   "id": "7598b57b",
   "metadata": {},
   "outputs": [],
   "source": [
    "def style_transfer(input_image, style_image, model):\n",
    "    stylized_image = model(tf.constant(input_image), tf.constant(style_image))[0]\n",
    "    return stylized_image"
   ]
  },
  {
   "cell_type": "code",
   "execution_count": 7,
   "id": "869b2d81",
   "metadata": {},
   "outputs": [],
   "source": [
    "for filename in os.listdir(input_folder):\n",
    "    if filename.endswith((\".jpg\", \".jpeg\", \".png\")):\n",
    "        # 원본 이미지 불러오기\n",
    "        image_path = os.path.join(input_folder, filename)\n",
    "        content_image = tf.image.decode_image(tf.io.read_file(image_path), channels=3)\n",
    "        content_image = tf.image.convert_image_dtype(content_image, tf.float32)\n",
    "        content_image = content_image[tf.newaxis, :]\n",
    "\n",
    "        # 스타일 이미지 불러오기\n",
    "        style_image = tf.image.decode_image(tf.io.read_file(style_image_path), channels=3)\n",
    "        style_image = tf.image.convert_image_dtype(style_image, tf.float32)\n",
    "        style_image = style_image[tf.newaxis, :]\n",
    "\n",
    "        # 스타일 전이 적용\n",
    "        stylized_image = style_transfer(content_image, style_image, model)\n",
    "\n",
    "        # 결과 이미지 저장\n",
    "        output_image_path = os.path.join(output_folder, filename)\n",
    "        tf.keras.preprocessing.image.save_img(output_image_path, stylized_image[0])"
   ]
  },
  {
   "cell_type": "markdown",
   "id": "8abec43f",
   "metadata": {},
   "source": [
    "- 코드를 실행한 결과 1000개의 이미지가 있는 폴더에서는 코드가 동작하지 않았다.\n",
    "- 그러나 100개의 이미지가 있는 폴더에서는 잘 동작했다.\n",
    "- 많은 수의 이미지의 스타일을 transfer할 수 있는 방법을 따로 모색하거나 여러명이 단순반복을 해야할 수도 있을 것 같다."
   ]
  },
  {
   "cell_type": "code",
   "execution_count": null,
   "id": "1bd5536d",
   "metadata": {},
   "outputs": [],
   "source": []
  }
 ],
 "metadata": {
  "kernelspec": {
   "display_name": "Python 3 (ipykernel)",
   "language": "python",
   "name": "python3"
  },
  "language_info": {
   "codemirror_mode": {
    "name": "ipython",
    "version": 3
   },
   "file_extension": ".py",
   "mimetype": "text/x-python",
   "name": "python",
   "nbconvert_exporter": "python",
   "pygments_lexer": "ipython3",
   "version": "3.11.3"
  }
 },
 "nbformat": 4,
 "nbformat_minor": 5
}
